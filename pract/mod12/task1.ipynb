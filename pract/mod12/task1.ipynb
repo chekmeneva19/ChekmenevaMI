{
  "cells": [
    {
      "cell_type": "markdown",
      "metadata": {
        "id": "5PCKYT3D4iks"
      },
      "source": [
        "Соединяемся с базой, если указать имя файла как `:memory:`, база будет создана в оперативной памяти.\n",
        "\n",
        "    You can also supply the special name :memory: to create a database in RAM."
      ]
    },
    {
      "cell_type": "code",
      "execution_count": 2,
      "metadata": {
        "id": "RhEmuVuM4ikx"
      },
      "outputs": [],
      "source": [
        "import sqlite3\n",
        "conn = sqlite3.connect('netflix.sqlite')"
      ]
    },
    {
      "cell_type": "markdown",
      "metadata": {
        "id": "F79vUfox4ikz"
      },
      "source": [
        "<a href=\"https://docs.python.org/3/library/sqlite3.html\">Документация</a>"
      ]
    },
    {
      "cell_type": "code",
      "execution_count": 3,
      "metadata": {
        "id": "ZVqgNXE84ik1"
      },
      "outputs": [],
      "source": [
        "c = conn.cursor() # Стандартный курсор = итератор по результатам запросов."
      ]
    },
    {
      "cell_type": "code",
      "execution_count": 4,
      "metadata": {
        "colab": {
          "base_uri": "https://localhost:8080/"
        },
        "id": "n6E0yQEc4ik2",
        "outputId": "bd02dec4-7633-4958-add8-2a0f8a985007"
      },
      "outputs": [
        {
          "output_type": "stream",
          "name": "stdout",
          "text": [
            "(81145628, 'Movie', 'Norm of the North: King Sized Adventure', 'Richard Finn, Tim Maltby', 'Alan Marriott, Andrew Toth, Brian Dobson, Cole Howard, Jennifer Cameron, Jonathan Holmes, Lee Tockar, Lisa Durupt, Maya Kay, Michael Dobson', 'United States, India, South Korea, China', 'September 9, 2019', 2019, 'TV-PG', '90 min', 'Children & Family Movies, Comedies', 'Before planning an awesome wedding for his grandfather, a polar bear king must take back a stolen artifact from an evil archaeologist first.')\n",
            "(80117401, 'Movie', 'Jandino: Whatever it Takes', '', 'Jandino Asporaat', 'United Kingdom', 'September 9, 2016', 2016, 'TV-MA', '94 min', 'Stand-Up Comedy', 'Jandino Asporaat riffs on the challenges of raising kids and serenades the audience with a rousing rendition of \"Sex on Fire\" in his comedy show.')\n",
            "(70234439, 'TV Show', 'Transformers Prime', '', 'Peter Cullen, Sumalee Montano, Frank Welker, Jeffrey Combs, Kevin Michael Richardson, Tania Gunadi, Josh Keaton, Steve Blum, Andy Pessoa, Ernie Hudson, Daran Norris, Will Friedle', 'United States', 'September 8, 2018', 2013, 'TV-Y7-FV', '1 Season', \"Kids' TV\", 'With the help of three human allies, the Autobots once again protect Earth from the onslaught of the Decepticons and their leader, Megatron.')\n"
          ]
        }
      ],
      "source": [
        "for row in c.execute(\"SELECT * FROM netflix_titles limit 3\"):\n",
        "    print(row)"
      ]
    },
    {
      "cell_type": "markdown",
      "metadata": {
        "id": "iuDIhYMe4ik6"
      },
      "source": [
        "Можно еще получать по одному:"
      ]
    },
    {
      "cell_type": "code",
      "execution_count": 5,
      "metadata": {
        "colab": {
          "base_uri": "https://localhost:8080/"
        },
        "id": "31fX2RYq4ik6",
        "outputId": "b6f47ab3-8f20-4b8c-c1e9-1b1378d5f678"
      },
      "outputs": [
        {
          "output_type": "execute_result",
          "data": {
            "text/plain": [
              "<sqlite3.Cursor at 0x7d518dbce5c0>"
            ]
          },
          "metadata": {},
          "execution_count": 5
        }
      ],
      "source": [
        "c.execute(\"SELECT * FROM netflix_titles limit 3\")"
      ]
    },
    {
      "cell_type": "code",
      "execution_count": 6,
      "metadata": {
        "colab": {
          "base_uri": "https://localhost:8080/"
        },
        "id": "ULklo2tZ4ik7",
        "outputId": "336b3d61-0727-44e8-ca58-22dc8e86263c"
      },
      "outputs": [
        {
          "output_type": "execute_result",
          "data": {
            "text/plain": [
              "(81145628,\n",
              " 'Movie',\n",
              " 'Norm of the North: King Sized Adventure',\n",
              " 'Richard Finn, Tim Maltby',\n",
              " 'Alan Marriott, Andrew Toth, Brian Dobson, Cole Howard, Jennifer Cameron, Jonathan Holmes, Lee Tockar, Lisa Durupt, Maya Kay, Michael Dobson',\n",
              " 'United States, India, South Korea, China',\n",
              " 'September 9, 2019',\n",
              " 2019,\n",
              " 'TV-PG',\n",
              " '90 min',\n",
              " 'Children & Family Movies, Comedies',\n",
              " 'Before planning an awesome wedding for his grandfather, a polar bear king must take back a stolen artifact from an evil archaeologist first.')"
            ]
          },
          "metadata": {},
          "execution_count": 6
        }
      ],
      "source": [
        "c.fetchone()"
      ]
    },
    {
      "cell_type": "code",
      "execution_count": 7,
      "metadata": {
        "id": "_9adz7qr4ik7",
        "outputId": "1508ab12-a3a5-4606-b9f8-07410915532e",
        "colab": {
          "base_uri": "https://localhost:8080/"
        }
      },
      "outputs": [
        {
          "output_type": "execute_result",
          "data": {
            "text/plain": [
              "(80117401,\n",
              " 'Movie',\n",
              " 'Jandino: Whatever it Takes',\n",
              " '',\n",
              " 'Jandino Asporaat',\n",
              " 'United Kingdom',\n",
              " 'September 9, 2016',\n",
              " 2016,\n",
              " 'TV-MA',\n",
              " '94 min',\n",
              " 'Stand-Up Comedy',\n",
              " 'Jandino Asporaat riffs on the challenges of raising kids and serenades the audience with a rousing rendition of \"Sex on Fire\" in his comedy show.')"
            ]
          },
          "metadata": {},
          "execution_count": 7
        }
      ],
      "source": [
        "c.fetchone()"
      ]
    },
    {
      "cell_type": "code",
      "execution_count": 8,
      "metadata": {
        "id": "OxvwQ4iv4ik8",
        "outputId": "646b5eda-6107-4a28-9620-7a691a02336f",
        "colab": {
          "base_uri": "https://localhost:8080/"
        }
      },
      "outputs": [
        {
          "output_type": "execute_result",
          "data": {
            "text/plain": [
              "(70234439,\n",
              " 'TV Show',\n",
              " 'Transformers Prime',\n",
              " '',\n",
              " 'Peter Cullen, Sumalee Montano, Frank Welker, Jeffrey Combs, Kevin Michael Richardson, Tania Gunadi, Josh Keaton, Steve Blum, Andy Pessoa, Ernie Hudson, Daran Norris, Will Friedle',\n",
              " 'United States',\n",
              " 'September 8, 2018',\n",
              " 2013,\n",
              " 'TV-Y7-FV',\n",
              " '1 Season',\n",
              " \"Kids' TV\",\n",
              " 'With the help of three human allies, the Autobots once again protect Earth from the onslaught of the Decepticons and their leader, Megatron.')"
            ]
          },
          "metadata": {},
          "execution_count": 8
        }
      ],
      "source": [
        "c.fetchone()"
      ]
    },
    {
      "cell_type": "code",
      "execution_count": 9,
      "metadata": {
        "id": "sI_nJtyC4ik9"
      },
      "outputs": [],
      "source": [
        "c.fetchone() # Все, курсор закончился."
      ]
    },
    {
      "cell_type": "code",
      "execution_count": 10,
      "metadata": {
        "id": "0FEvNqaN4ik9",
        "outputId": "21c155f6-0376-45e6-dcc6-26486fe92f88",
        "colab": {
          "base_uri": "https://localhost:8080/"
        }
      },
      "outputs": [
        {
          "output_type": "execute_result",
          "data": {
            "text/plain": [
              "[(81145628,\n",
              "  'Movie',\n",
              "  'Norm of the North: King Sized Adventure',\n",
              "  'Richard Finn, Tim Maltby',\n",
              "  'Alan Marriott, Andrew Toth, Brian Dobson, Cole Howard, Jennifer Cameron, Jonathan Holmes, Lee Tockar, Lisa Durupt, Maya Kay, Michael Dobson',\n",
              "  'United States, India, South Korea, China',\n",
              "  'September 9, 2019',\n",
              "  2019,\n",
              "  'TV-PG',\n",
              "  '90 min',\n",
              "  'Children & Family Movies, Comedies',\n",
              "  'Before planning an awesome wedding for his grandfather, a polar bear king must take back a stolen artifact from an evil archaeologist first.'),\n",
              " (80117401,\n",
              "  'Movie',\n",
              "  'Jandino: Whatever it Takes',\n",
              "  '',\n",
              "  'Jandino Asporaat',\n",
              "  'United Kingdom',\n",
              "  'September 9, 2016',\n",
              "  2016,\n",
              "  'TV-MA',\n",
              "  '94 min',\n",
              "  'Stand-Up Comedy',\n",
              "  'Jandino Asporaat riffs on the challenges of raising kids and serenades the audience with a rousing rendition of \"Sex on Fire\" in his comedy show.'),\n",
              " (70234439,\n",
              "  'TV Show',\n",
              "  'Transformers Prime',\n",
              "  '',\n",
              "  'Peter Cullen, Sumalee Montano, Frank Welker, Jeffrey Combs, Kevin Michael Richardson, Tania Gunadi, Josh Keaton, Steve Blum, Andy Pessoa, Ernie Hudson, Daran Norris, Will Friedle',\n",
              "  'United States',\n",
              "  'September 8, 2018',\n",
              "  2013,\n",
              "  'TV-Y7-FV',\n",
              "  '1 Season',\n",
              "  \"Kids' TV\",\n",
              "  'With the help of three human allies, the Autobots once again protect Earth from the onslaught of the Decepticons and their leader, Megatron.')]"
            ]
          },
          "metadata": {},
          "execution_count": 10
        }
      ],
      "source": [
        "c.execute(\"SELECT * FROM netflix_titles limit 3\")\n",
        "c.fetchall() # Как видим, у нас не итератор, а полноценный список."
      ]
    },
    {
      "cell_type": "markdown",
      "metadata": {
        "id": "Ez40pU8G4ik-"
      },
      "source": [
        "Как видим, не очень удобно, что возвращаются кортежи. Удобней было бы, чтобы словари."
      ]
    },
    {
      "cell_type": "code",
      "execution_count": 11,
      "metadata": {
        "id": "0806SW0_4ik-",
        "outputId": "9aa5650a-8279-4a9e-b84d-f32be21d1430",
        "colab": {
          "base_uri": "https://localhost:8080/"
        }
      },
      "outputs": [
        {
          "output_type": "execute_result",
          "data": {
            "text/plain": [
              "(('show_id', None, None, None, None, None, None),\n",
              " ('type', None, None, None, None, None, None),\n",
              " ('title', None, None, None, None, None, None),\n",
              " ('director', None, None, None, None, None, None),\n",
              " ('cast', None, None, None, None, None, None),\n",
              " ('country', None, None, None, None, None, None),\n",
              " ('date_added', None, None, None, None, None, None),\n",
              " ('release_year', None, None, None, None, None, None),\n",
              " ('rating', None, None, None, None, None, None),\n",
              " ('duration', None, None, None, None, None, None),\n",
              " ('listed_in', None, None, None, None, None, None),\n",
              " ('description', None, None, None, None, None, None))"
            ]
          },
          "metadata": {},
          "execution_count": 11
        }
      ],
      "source": [
        "c.description # вот тут есть описания полей."
      ]
    },
    {
      "cell_type": "code",
      "execution_count": 12,
      "metadata": {
        "id": "rbTkkLEf4ik_"
      },
      "outputs": [],
      "source": [
        "def dict_factory(cursor, row):\n",
        "    # обертка для преобразования\n",
        "    # полученной строки. (взята из документации)\n",
        "    d = {}\n",
        "    for idx, col in enumerate(cursor.description):\n",
        "        d[col[0]] = row[idx]\n",
        "    return d"
      ]
    },
    {
      "cell_type": "code",
      "execution_count": 13,
      "metadata": {
        "id": "yV_hMNIm4ilA"
      },
      "outputs": [],
      "source": [
        "conn.row_factory = dict_factory"
      ]
    },
    {
      "cell_type": "code",
      "execution_count": 14,
      "metadata": {
        "id": "AGpyaQ_x4ilA",
        "outputId": "95992402-c2fe-428c-8e7b-e3ac1c4f14ba",
        "colab": {
          "base_uri": "https://localhost:8080/"
        }
      },
      "outputs": [
        {
          "output_type": "execute_result",
          "data": {
            "text/plain": [
              "[(81145628,\n",
              "  'Movie',\n",
              "  'Norm of the North: King Sized Adventure',\n",
              "  'Richard Finn, Tim Maltby',\n",
              "  'Alan Marriott, Andrew Toth, Brian Dobson, Cole Howard, Jennifer Cameron, Jonathan Holmes, Lee Tockar, Lisa Durupt, Maya Kay, Michael Dobson',\n",
              "  'United States, India, South Korea, China',\n",
              "  'September 9, 2019',\n",
              "  2019,\n",
              "  'TV-PG',\n",
              "  '90 min',\n",
              "  'Children & Family Movies, Comedies',\n",
              "  'Before planning an awesome wedding for his grandfather, a polar bear king must take back a stolen artifact from an evil archaeologist first.'),\n",
              " (80117401,\n",
              "  'Movie',\n",
              "  'Jandino: Whatever it Takes',\n",
              "  '',\n",
              "  'Jandino Asporaat',\n",
              "  'United Kingdom',\n",
              "  'September 9, 2016',\n",
              "  2016,\n",
              "  'TV-MA',\n",
              "  '94 min',\n",
              "  'Stand-Up Comedy',\n",
              "  'Jandino Asporaat riffs on the challenges of raising kids and serenades the audience with a rousing rendition of \"Sex on Fire\" in his comedy show.'),\n",
              " (70234439,\n",
              "  'TV Show',\n",
              "  'Transformers Prime',\n",
              "  '',\n",
              "  'Peter Cullen, Sumalee Montano, Frank Welker, Jeffrey Combs, Kevin Michael Richardson, Tania Gunadi, Josh Keaton, Steve Blum, Andy Pessoa, Ernie Hudson, Daran Norris, Will Friedle',\n",
              "  'United States',\n",
              "  'September 8, 2018',\n",
              "  2013,\n",
              "  'TV-Y7-FV',\n",
              "  '1 Season',\n",
              "  \"Kids' TV\",\n",
              "  'With the help of three human allies, the Autobots once again protect Earth from the onslaught of the Decepticons and their leader, Megatron.')]"
            ]
          },
          "metadata": {},
          "execution_count": 14
        }
      ],
      "source": [
        "с = conn.cursor()\n",
        "c.execute(\"SELECT * FROM netflix_titles limit 3\")\n",
        "c.fetchall() # Теперь буду словари"
      ]
    },
    {
      "cell_type": "code",
      "execution_count": 15,
      "metadata": {
        "id": "jzyeg3GL4ilB",
        "outputId": "94605a2b-da53-4961-9562-8f897d77d16e",
        "colab": {
          "base_uri": "https://localhost:8080/"
        }
      },
      "outputs": [
        {
          "output_type": "execute_result",
          "data": {
            "text/plain": [
              "[(273,)]"
            ]
          },
          "metadata": {},
          "execution_count": 15
        }
      ],
      "source": [
        "c.execute(\"SELECT count(*) as cnt FROM netflix_titles where listed_in='Stand-Up Comedy'\")\n",
        "c.fetchall() # Сколько вообще стендап комедий"
      ]
    },
    {
      "cell_type": "code",
      "execution_count": 16,
      "metadata": {
        "id": "8plaGnkr4ilC",
        "outputId": "1b99d864-6d97-4189-dae9-49c876a85973",
        "colab": {
          "base_uri": "https://localhost:8080/"
        }
      },
      "outputs": [
        {
          "output_type": "execute_result",
          "data": {
            "text/plain": [
              "[('', 10),\n",
              " ('G', 37),\n",
              " ('NC-17', 2),\n",
              " ('NR', 218),\n",
              " ('PG', 184),\n",
              " ('PG-13', 286),\n",
              " ('R', 508),\n",
              " ('TV-14', 1698),\n",
              " ('TV-G', 149),\n",
              " ('TV-MA', 2027),\n",
              " ('TV-PG', 701),\n",
              " ('TV-Y', 143),\n",
              " ('TV-Y7', 169),\n",
              " ('TV-Y7-FV', 95),\n",
              " ('UR', 7)]"
            ]
          },
          "metadata": {},
          "execution_count": 16
        }
      ],
      "source": [
        "c.execute(\"SELECT rating, count(*) as cnt FROM netflix_titles group by rating\")\n",
        "c.fetchall() # Группируем по рейтингу\n",
        "# Важно тут сказать, что SQL -- замена pandas полноценная,\n",
        "# и всю обработку данных можно делать прямо внутри него"
      ]
    },
    {
      "cell_type": "markdown",
      "metadata": {
        "id": "FYdOCH1G4ilD"
      },
      "source": [
        "# Задания"
      ]
    },
    {
      "cell_type": "markdown",
      "metadata": {
        "id": "RA1vh63z4ilD"
      },
      "source": [
        "1. Нормализовать базу данных относительно актеров. Выделить таблицу с актерами, а также таблицу многие-ко-многим `актер-фильм`\n"
      ]
    },
    {
      "cell_type": "markdown",
      "source": [
        "Создание таблицы актеров"
      ],
      "metadata": {
        "id": "hqruiMDzMQK4"
      }
    },
    {
      "cell_type": "code",
      "source": [
        "with conn:\n",
        "    c.execute(\"\"\"\n",
        "        CREATE TABLE Actors (\n",
        "        actor_id INTEGER PRIMARY KEY,\n",
        "        actor_name TEXT NOT NULL\n",
        "        );\n",
        "    \"\"\")"
      ],
      "metadata": {
        "id": "W-n6cCGaMBP2"
      },
      "execution_count": 17,
      "outputs": []
    },
    {
      "cell_type": "markdown",
      "source": [
        "заполнение таблицы"
      ],
      "metadata": {
        "id": "On8bxWxfMeks"
      }
    },
    {
      "cell_type": "code",
      "source": [
        "c.execute(\"SELECT \\\"cast\\\" FROM netflix_titles\")\n",
        "actorCast = c.fetchall()\n",
        "pple = set()\n",
        "for e in actorCast:\n",
        "    if len(e[0]) == 0:\n",
        "        continue\n",
        "\n",
        "    for i in e[0].split(', '):\n",
        "        pple.add(i)\n",
        "\n",
        "peoples = list(pple)\n",
        "for i in range(len(peoples)):\n",
        "    name = peoples[i]\n",
        "    peoples[i] = (i, name)\n",
        "\n",
        "with conn:\n",
        "    c.executemany(\"INSERT INTO Actors VALUES(?, ?)\", peoples)"
      ],
      "metadata": {
        "id": "VnngKIrsMd9M"
      },
      "execution_count": 18,
      "outputs": []
    },
    {
      "cell_type": "markdown",
      "source": [
        "Создание таблицы фильмов"
      ],
      "metadata": {
        "id": "aWqFegCifnDZ"
      }
    },
    {
      "cell_type": "code",
      "source": [
        "with conn:\n",
        "    c.execute(\"\"\"\n",
        "        CREATE TABLE Films (\n",
        "        film_id INTEGER PRIMARY KEY,\n",
        "        film_name TEXT NOT NULL\n",
        "        );\n",
        "    \"\"\")"
      ],
      "metadata": {
        "id": "jP2Cppxjf-Rq"
      },
      "execution_count": 19,
      "outputs": []
    },
    {
      "cell_type": "markdown",
      "source": [
        "Заполняем таблицу"
      ],
      "metadata": {
        "id": "hxeDBF6qgG4r"
      }
    },
    {
      "cell_type": "code",
      "source": [
        "c.execute(\"SELECT \\\"title\\\" FROM netflix_titles\")\n",
        "actorCastast = c.fetchall()\n",
        "film = set()\n",
        "for e in actorCast:\n",
        "    if len(e[0]) == 0:\n",
        "        continue\n",
        "\n",
        "    for i in e[0].split(', '):\n",
        "        film.add(i)\n",
        "\n",
        "films = list(film)\n",
        "for i in range(len(films)):\n",
        "    films[i] = (i, films[i])\n",
        "\n",
        "\n",
        "with conn:\n",
        "    c.executemany(\"INSERT INTO Films VALUES(?, ?)\", films)"
      ],
      "metadata": {
        "id": "LMy-tDyjgM3N"
      },
      "execution_count": 20,
      "outputs": []
    },
    {
      "cell_type": "markdown",
      "source": [
        "Создание таблицы актер-фильм"
      ],
      "metadata": {
        "id": "IKC_lZdtgeX8"
      }
    },
    {
      "cell_type": "code",
      "source": [
        "with conn:\n",
        "    c.execute(\"\"\"\n",
        "        CREATE TABLE Act_Films(\n",
        "            actor_id INTEGER,\n",
        "            actor_name TEXT,\n",
        "            film_names TEXT,\n",
        "            film_ids TEXT\n",
        "        );\n",
        "    \"\"\")"
      ],
      "metadata": {
        "id": "g9JtklfTgi7B"
      },
      "execution_count": 21,
      "outputs": []
    },
    {
      "cell_type": "code",
      "source": [
        "import sqlite3\n",
        "\n",
        "conn = sqlite3.connect('netflix.sqlite')\n",
        "c = conn.cursor()\n",
        "\n",
        "c.execute(\"SELECT title, \\\"cast\\\"  FROM netflix_titles\")\n",
        "film_actors = c.fetchall()\n",
        "actors = set()\n",
        "for e in film_actors:\n",
        "    if len(e[1]) == 0:\n",
        "        continue\n",
        "    for i in e[1].split(', '):\n",
        "        actors.add((i, e[0]))\n",
        "\n",
        "films = list(actors)\n",
        "information = []\n",
        "counter = 0\n",
        "for i in range(len(films)):\n",
        "    try:\n",
        "      c.execute(\"SELECT film_id FROM Films WHERE film_name = ?\", (films[i][1],))\n",
        "      infor = c.fetchone()\n",
        "      id_film = infor[0]\n",
        "      info = (films[i][0], films[i][1], id_film)\n",
        "      information.append(info)\n",
        "    except:\n",
        "        continue\n",
        "\n",
        "final_information = []\n",
        "temp = set()\n",
        "for i in range(len(information)):\n",
        "\n",
        "    current_actor = information[i][0]\n",
        "    film_list = [information[i][1]]\n",
        "    film_id_list = [information[i][2]]\n",
        "    if not (current_actor in temp):\n",
        "        for j in range(i + 1, len(information)):\n",
        "            if information[j][0] == current_actor:\n",
        "                film_list.append(information[j][1])\n",
        "                film_id_list.append(information[j][2])\n",
        "\n",
        "        text_film = ''\n",
        "        for g in film_list:\n",
        "            text_film += str(g) + ', '\n",
        "\n",
        "        text_film = text_film[:-2]\n",
        "        text_id = ''\n",
        "        for p in film_id_list:\n",
        "            text_id += str(p) + ', '\n",
        "\n",
        "        text_id = text_id[:-2]\n",
        "        c.execute(\"SELECT actor_id FROM Actors WHERE \tactor_name = ?\", (current_actor,))\n",
        "        infor = c.fetchone()\n",
        "        final_information.append((infor[0], current_actor, text_film, text_id))\n",
        "        temp.add(current_actor)\n",
        "    else:\n",
        "        continue\n",
        "\n",
        "\n",
        "with conn:\n",
        "    c.executemany(\"INSERT INTO Act_Films VALUES(?, ?, ?, ?)\", final_information)"
      ],
      "metadata": {
        "id": "9x8fmRJzgtir"
      },
      "execution_count": 22,
      "outputs": []
    },
    {
      "cell_type": "markdown",
      "metadata": {
        "id": "hiLGYBfB4ilE"
      },
      "source": [
        "2. Исходя из этой таблицы, средствами SQL, вычислить наболее часто работающую друг с другом пару актеров."
      ]
    },
    {
      "cell_type": "code",
      "source": [
        "import sqlite3\n",
        "\n",
        "conn = sqlite3.connect('netflix.sqlite')\n",
        "c = conn.cursor()\n",
        "c.execute(\"SELECT actor_id, film_ids FROM Act_Films\")\n",
        "info = c.fetchall()\n",
        "max_num = 0\n",
        "max_films = 0\n",
        "len_id = len(info)\n",
        "name = \"\"\n",
        "name2 = \"\"\n",
        "for i in range(len_id - 1):\n",
        "    actor_1 = info[i][0]\n",
        "    films_1 = info[i][1].split(', ')\n",
        "    if len(films_1) > max_num:\n",
        "        for j in range(i + 1, len_id):\n",
        "            actor_2 = info[j][0]\n",
        "            films_2 = info[j][1].split(', ')\n",
        "            if len(films_2) > max_num:\n",
        "                if len(films_2) + len(films_1) - len(set(films_2 + films_1)) > max_num:\n",
        "                    max_num = len(films_2) + len(films_1) - len(set(films_2 + films_1))\n",
        "                    c.execute(f\"SELECT * FROM Act_Films WHERE actor_id = {actor_1}\")\n",
        "                    name = c.fetchone()\n",
        "                    c.execute(f\"SELECT * FROM Act_Films WHERE actor_id = {actor_2}\")\n",
        "                    name2 = c.fetchone()\n",
        "                if len(films_1) > max_films:\n",
        "                    max_films = len(films_1)\n",
        "\n",
        "\n",
        "print(name[1])\n",
        "print(name2[1])"
      ],
      "metadata": {
        "colab": {
          "base_uri": "https://localhost:8080/"
        },
        "id": "fJuYbvwmpuA-",
        "outputId": "baef5d66-72ca-4687-f64f-3c012c38705e"
      },
      "execution_count": 23,
      "outputs": [
        {
          "output_type": "stream",
          "name": "stdout",
          "text": [
            "Nagarjuna Akkineni\n",
            "Rajendranath Zutshi\n"
          ]
        }
      ]
    },
    {
      "cell_type": "markdown",
      "metadata": {
        "id": "jHNyHAZs4ilF"
      },
      "source": []
    }
  ],
  "metadata": {
    "kernelspec": {
      "display_name": "Python 3",
      "language": "python",
      "name": "python3"
    },
    "language_info": {
      "codemirror_mode": {
        "name": "ipython",
        "version": 3
      },
      "file_extension": ".py",
      "mimetype": "text/x-python",
      "name": "python",
      "nbconvert_exporter": "python",
      "pygments_lexer": "ipython3",
      "version": "3.6.9"
    },
    "colab": {
      "provenance": []
    }
  },
  "nbformat": 4,
  "nbformat_minor": 0
}